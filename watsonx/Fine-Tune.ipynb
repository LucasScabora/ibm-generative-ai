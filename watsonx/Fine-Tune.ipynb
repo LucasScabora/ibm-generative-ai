{
 "cells": [
  {
   "cell_type": "code",
   "execution_count": 1,
   "id": "a61aec5f-991c-484f-9360-4d1610576315",
   "metadata": {},
   "outputs": [
    {
     "name": "stdout",
     "output_type": "stream",
     "text": [
      "Loading .env file: True\n"
     ]
    }
   ],
   "source": [
    "import os\n",
    "import json\n",
    "import requests\n",
    "from ibm_watson import DiscoveryV2\n",
    "from dotenv import load_dotenv\n",
    "#\n",
    "print('Loading .env file:', load_dotenv())\n",
    "api_key = os.getenv('GENAI_KEY', None)\n",
    "api_url = os.getenv('GENAI_API', None)\n",
    "#\n",
    "from watsonx_adapter import WatsonX_Adapter"
   ]
  },
  {
   "cell_type": "markdown",
   "id": "bd75fe10-bc96-4c7f-874c-dd990520f7c9",
   "metadata": {},
   "source": [
    "# Watson Discovery connection"
   ]
  },
  {
   "cell_type": "code",
   "execution_count": 2,
   "id": "624e4798-fc9a-488c-8258-77e85ff94958",
   "metadata": {},
   "outputs": [],
   "source": [
    "# discovery = DiscoveryV2(version='2023-04-18')\n",
    "# discovery.set_disable_ssl_verification(True)\n",
    "\n",
    "# ## List Projects\n",
    "# projects = discovery.list_projects().get_result()\n",
    "# print(json.dumps(projects, indent=2))\n",
    "# # # PROJECT_ID = 'xxx' # ECI\n",
    "\n",
    "# # ## List Collections ##\n",
    "# # collections = discovery.list_collections(project_id=PROJECT_ID).get_result()\n",
    "# # print(json.dumps(collections, indent=2))\n",
    "# # COLLECTION_ID = 'xxx'"
   ]
  },
  {
   "cell_type": "markdown",
   "id": "31fb1461-4670-4d5c-87de-874e387119e7",
   "metadata": {},
   "source": [
    "# WatsonX Connection"
   ]
  },
  {
   "cell_type": "markdown",
   "id": "8aba6ab4-d84f-447b-a10d-a5025865ff29",
   "metadata": {},
   "source": [
    "## WatsonX Upload Dataset"
   ]
  },
  {
   "cell_type": "code",
   "execution_count": 3,
   "id": "f3b13fc6-558f-4f2f-9025-66a2f48fddc0",
   "metadata": {},
   "outputs": [
    {
     "name": "stdout",
     "output_type": "stream",
     "text": [
      "(200, '{\"results\":[{\"id\":\"a31f8113-026d-4c8c-b261-356bc9ec3eb7\",\"bytes\":\"1013\",\"file_name\":\"toy_dataset.jsonl\",\"purpose\":\"tune\",\"storage_provider_location\":\"us-east\",\"created_at\":\"2023-07-07T19:19:54.000Z\",\"file_formats\":[{\"id\":1,\"name\":\"generic\"}]}],\"totalCount\":1}')\n"
     ]
    }
   ],
   "source": [
    "# Instantiate Class\n",
    "watsonx = WatsonX_Adapter(api_url, api_key)\n",
    "#\n",
    "# List Dataset Files\n",
    "print(watsonx.list_dataset_files())\n",
    "# #\n",
    "# # Upload Dataset File (toy example)\n",
    "# print(watsonx.upload_dataset_file('./toy_dataset.jsonl'))\n",
    "# #\n",
    "# # List Dataset Files\n",
    "# print(watsonx.list_dataset_files())\n",
    "# #\n",
    "# Delete File\n",
    "# print(watsonx.delete_dataset_file('a31f8113-026d-4c8c-b261-356bc9ec3eb7'))"
   ]
  },
  {
   "cell_type": "raw",
   "id": "a1533ab7-3e5b-4b9e-848a-59cf16588bdb",
   "metadata": {},
   "source": [
    "(200, '{\"results\":[{\"id\":\"a31f8113-026d-4c8c-b261-356bc9ec3eb7\",\"bytes\":\"1013\",\"file_name\":\"toy_dataset.jsonl\",\"purpose\":\"tune\",\"storage_provider_location\":\"us-east\",\"created_at\":\"2023-07-07T19:19:54.000Z\",\"file_formats\":[{\"id\":1,\"name\":\"generic\"}]}],\"totalCount\":1}')"
   ]
  },
  {
   "cell_type": "markdown",
   "id": "c0016541-1778-462a-bf62-7db812440bdb",
   "metadata": {},
   "source": [
    "## Fine-Tune in WatsonX"
   ]
  },
  {
   "cell_type": "code",
   "execution_count": 4,
   "id": "cb4ba321-562d-44b6-8cca-1aa332b2ec56",
   "metadata": {},
   "outputs": [],
   "source": [
    "# print(watsonx.create_tune(\n",
    "#     tune_name = 'Test WatsonX Adapter',\n",
    "#     training_file_ids = ['a31f8113-026d-4c8c-b261-356bc9ec3eb7'],\n",
    "#     task_id = 'generation',\n",
    "#     model_id = 'google/flan-t5-xl'))"
   ]
  },
  {
   "cell_type": "raw",
   "id": "0c8b1f7b-00a9-4e1e-bad6-4b9ac3e95698",
   "metadata": {},
   "source": [
    "(200, '{\"results\":{\"id\":\"flan-t5-xl-mpt-eUuMmDay-2023-07-07-19-24-24\",\"name\":\"Test WatsonX Adapter\",\"model_id\":\"google/flan-t5-xl\",\"method_id\":\"mpt\",\"method_name\":\"Multitask Prompt Tuning\",\"model_name\":\"flan-t5-xl (3B)\",\"status\":\"INITIALIZING\",\"preferred\":false,\"task_id\":\"generation\",\"task_name\":\"Generation\",\"parameters\":{\"batch_size\":4,\"num_epochs\":12},\"created_at\":\"2023-07-07T19:24:24.000Z\",\"validation_files\":[],\"training_files\":[{\"id\":\"a31f8113-026d-4c8c-b261-356bc9ec3eb7\",\"file_name\":\"toy_dataset.jsonl\",\"created_at\":\"2023-07-07T19:19:54.000Z\"}],\"evaluation_files\":[],\"datapoints\":{\"loss\":[]}}}')"
   ]
  },
  {
   "cell_type": "code",
   "execution_count": 5,
   "id": "3439452c-36b7-442b-9991-9242a5a186ff",
   "metadata": {},
   "outputs": [
    {
     "name": "stdout",
     "output_type": "stream",
     "text": [
      "(200, '{\"results\":[{\"id\":\"flan-t5-xl-mpt-eUuMmDay-2023-07-07-19-24-24\",\"name\":\"Test WatsonX Adapter\",\"model_id\":\"google/flan-t5-xl\",\"method_id\":\"mpt\",\"method_name\":\"Multitask Prompt Tuning\",\"model_name\":\"flan-t5-xl (3B)\",\"status\":\"COMPLETED\",\"status_message\":null,\"preferred\":true,\"task_id\":\"generation\",\"task_name\":\"Generation\",\"parameters\":{\"batch_size\":4,\"num_epochs\":12},\"started_at\":\"2023-07-07T19:24:26.000Z\",\"finished_at\":\"2023-07-07T19:27:10.000Z\",\"created_at\":\"2023-07-07T19:24:24.000Z\"}],\"totalCount\":1}')\n"
     ]
    }
   ],
   "source": [
    "print(watsonx.list_tunes())"
   ]
  },
  {
   "cell_type": "markdown",
   "id": "1ba2ba4f-bc97-404a-b102-af8b3ad092ca",
   "metadata": {},
   "source": [
    "### Possible Datasets: \n",
    "- https://github.com/neelguha/legal-ml-datasets\n",
    "- https://stanfordnlp.github.io/contract-nli/"
   ]
  }
 ],
 "metadata": {
  "kernelspec": {
   "display_name": "Python 3 (ipykernel)",
   "language": "python",
   "name": "python3"
  },
  "language_info": {
   "codemirror_mode": {
    "name": "ipython",
    "version": 3
   },
   "file_extension": ".py",
   "mimetype": "text/x-python",
   "name": "python",
   "nbconvert_exporter": "python",
   "pygments_lexer": "ipython3",
   "version": "3.9.16"
  }
 },
 "nbformat": 4,
 "nbformat_minor": 5
}
